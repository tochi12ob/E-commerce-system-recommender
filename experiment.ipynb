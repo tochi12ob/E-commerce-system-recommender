{
 "cells": [
  {
   "cell_type": "code",
   "execution_count": 1,
   "metadata": {},
   "outputs": [],
   "source": [
    "import pandas as pd "
   ]
  },
  {
   "cell_type": "code",
   "execution_count": 2,
   "metadata": {},
   "outputs": [],
   "source": [
    "df = pd.read_csv('./Ebay_scraper/CNN_Model_Train_Data.csv')"
   ]
  },
  {
   "cell_type": "code",
   "execution_count": 4,
   "metadata": {},
   "outputs": [
    {
     "data": {
      "text/html": [
       "<div>\n",
       "<style scoped>\n",
       "    .dataframe tbody tr th:only-of-type {\n",
       "        vertical-align: middle;\n",
       "    }\n",
       "\n",
       "    .dataframe tbody tr th {\n",
       "        vertical-align: top;\n",
       "    }\n",
       "\n",
       "    .dataframe thead th {\n",
       "        text-align: right;\n",
       "    }\n",
       "</style>\n",
       "<table border=\"1\" class=\"dataframe\">\n",
       "  <thead>\n",
       "    <tr style=\"text-align: right;\">\n",
       "      <th></th>\n",
       "      <th>image_url</th>\n",
       "      <th>title</th>\n",
       "      <th>price</th>\n",
       "      <th>shipping_cost</th>\n",
       "    </tr>\n",
       "  </thead>\n",
       "  <tbody>\n",
       "    <tr>\n",
       "      <th>0</th>\n",
       "      <td>https://i.ebayimg.com/thumbs/images/g/mCYAAOSw...</td>\n",
       "      <td>Custom Printed Text T-Shirt - Promotional Pers...</td>\n",
       "      <td>$49.00</td>\n",
       "      <td>$15.25 shipping</td>\n",
       "    </tr>\n",
       "    <tr>\n",
       "      <th>1</th>\n",
       "      <td>https://i.ebayimg.com/thumbs/images/g/LU0AAOSw...</td>\n",
       "      <td>Summer Maxi Dress Farm Floral Print Sleeveless...</td>\n",
       "      <td>$68.00</td>\n",
       "      <td>$28.70 shipping</td>\n",
       "    </tr>\n",
       "    <tr>\n",
       "      <th>2</th>\n",
       "      <td>https://i.ebayimg.com/thumbs/images/g/nPoAAOSw...</td>\n",
       "      <td>CLASSIC JEAN JACKET - SOLIDS, logo button deta...</td>\n",
       "      <td>$49.00</td>\n",
       "      <td>Free shipping</td>\n",
       "    </tr>\n",
       "    <tr>\n",
       "      <th>3</th>\n",
       "      <td>https://i.ebayimg.com/thumbs/images/g/sJ8AAOSw...</td>\n",
       "      <td>Women Sexy Lingerie Leather Nightwear Sleepwea...</td>\n",
       "      <td>$7.49</td>\n",
       "      <td>$19.14 shipping</td>\n",
       "    </tr>\n",
       "    <tr>\n",
       "      <th>4</th>\n",
       "      <td>https://i.ebayimg.com/thumbs/images/g/JHoAAOSw...</td>\n",
       "      <td>Moth Anthropologie Cardigan Womens Medium Gold...</td>\n",
       "      <td>$11.25</td>\n",
       "      <td>$36.01 shipping</td>\n",
       "    </tr>\n",
       "    <tr>\n",
       "      <th>5</th>\n",
       "      <td>https://i.ebayimg.com/thumbs/images/g/E-EAAOSw...</td>\n",
       "      <td>2 PACK LADIES BOOTLEG TROUSERS WOMENS BOOTCUT ...</td>\n",
       "      <td>$89.95</td>\n",
       "      <td>$20.34 shipping</td>\n",
       "    </tr>\n",
       "    <tr>\n",
       "      <th>6</th>\n",
       "      <td>https://i.ebayimg.com/thumbs/images/g/f5cAAOSw...</td>\n",
       "      <td>RE/DONE 70s Stove Pipe High Rise Straight Dest...</td>\n",
       "      <td>$183.00</td>\n",
       "      <td>$40.27 shipping</td>\n",
       "    </tr>\n",
       "    <tr>\n",
       "      <th>7</th>\n",
       "      <td>https://i.ebayimg.com/thumbs/images/g/11wAAOSw...</td>\n",
       "      <td>ladies skirt elastic lined long skirt women li...</td>\n",
       "      <td>$24.88</td>\n",
       "      <td>$8.89 shipping</td>\n",
       "    </tr>\n",
       "    <tr>\n",
       "      <th>8</th>\n",
       "      <td>https://i.ebayimg.com/thumbs/images/g/ahEAAOSw...</td>\n",
       "      <td>Uneek 5 PACK Unisex Mens CLASSIC T-SHIRT Plain...</td>\n",
       "      <td>$9.99</td>\n",
       "      <td>$20.34 shipping</td>\n",
       "    </tr>\n",
       "    <tr>\n",
       "      <th>9</th>\n",
       "      <td>https://i.ebayimg.com/thumbs/images/g/YCcAAOSw...</td>\n",
       "      <td>Linen belted dress oversized summer sundress l...</td>\n",
       "      <td>$80.00</td>\n",
       "      <td>Free shipping</td>\n",
       "    </tr>\n",
       "    <tr>\n",
       "      <th>10</th>\n",
       "      <td>https://i.ebayimg.com/thumbs/images/g/QPwAAOSw...</td>\n",
       "      <td>SHORT SLEEVE JEAN JACKET -  DAISY, breezy shor...</td>\n",
       "      <td>$49.00</td>\n",
       "      <td>Free shipping</td>\n",
       "    </tr>\n",
       "    <tr>\n",
       "      <th>11</th>\n",
       "      <td>https://i.ebayimg.com/thumbs/images/g/XsYAAOSw...</td>\n",
       "      <td>Fajas Colombianas Reductoras Body Shaper Post ...</td>\n",
       "      <td>$36.44</td>\n",
       "      <td>Free shipping</td>\n",
       "    </tr>\n",
       "    <tr>\n",
       "      <th>12</th>\n",
       "      <td>https://i.ebayimg.com/thumbs/images/g/ooIAAOSw...</td>\n",
       "      <td>Orvis Sweater Womens Small Gray Pullover Fleec...</td>\n",
       "      <td>$19.99</td>\n",
       "      <td>$36.27 shipping</td>\n",
       "    </tr>\n",
       "    <tr>\n",
       "      <th>13</th>\n",
       "      <td>https://i.ebayimg.com/thumbs/images/g/eGgAAOSw...</td>\n",
       "      <td>LADIES WOMENS HALF ELASTICATED STRETCH WAIST W...</td>\n",
       "      <td>$19.99</td>\n",
       "      <td>$20.34 shipping</td>\n",
       "    </tr>\n",
       "    <tr>\n",
       "      <th>14</th>\n",
       "      <td>https://i.ebayimg.com/thumbs/images/g/yAUAAOSw...</td>\n",
       "      <td>Chico’s So Slimming Beige Ankle Jeans Cotton B...</td>\n",
       "      <td>$15.99</td>\n",
       "      <td>$36.70 shipping</td>\n",
       "    </tr>\n",
       "    <tr>\n",
       "      <th>15</th>\n",
       "      <td>https://i.ebayimg.com/thumbs/images/g/X7cAAOSw...</td>\n",
       "      <td>Women's Pencil Mini Skirt Stretch Mid Waist Ba...</td>\n",
       "      <td>$15.98</td>\n",
       "      <td>$18.78 shipping</td>\n",
       "    </tr>\n",
       "    <tr>\n",
       "      <th>16</th>\n",
       "      <td>https://i.ebayimg.com/thumbs/images/g/yzIAAOSw...</td>\n",
       "      <td>LADIES LONG SLEEVE POLO NECK ROLL NECK TOP WOM...</td>\n",
       "      <td>$5.99</td>\n",
       "      <td>$19.07 shipping</td>\n",
       "    </tr>\n",
       "    <tr>\n",
       "      <th>17</th>\n",
       "      <td>https://i.ebayimg.com/thumbs/images/g/4QoAAOSw...</td>\n",
       "      <td>Floral Printed Cotton Midi Dress Wedding Party...</td>\n",
       "      <td>$41.22</td>\n",
       "      <td>Free shipping</td>\n",
       "    </tr>\n",
       "    <tr>\n",
       "      <th>18</th>\n",
       "      <td>https://i.ebayimg.com/thumbs/images/g/kuEAAOSw...</td>\n",
       "      <td>Madewell Jacket Women Medium Terracotta Ashgro...</td>\n",
       "      <td>$44.00</td>\n",
       "      <td>$83.46 shipping</td>\n",
       "    </tr>\n",
       "    <tr>\n",
       "      <th>19</th>\n",
       "      <td>https://i.ebayimg.com/thumbs/images/g/~s8AAOSw...</td>\n",
       "      <td>3or6Pack Women's Sports Cotton Boxer Shorts Bo...</td>\n",
       "      <td>$12.95</td>\n",
       "      <td>$19.00 shipping</td>\n",
       "    </tr>\n",
       "    <tr>\n",
       "      <th>20</th>\n",
       "      <td>https://i.ebayimg.com/thumbs/images/g/cWgAAOSw...</td>\n",
       "      <td>Willi Smith Cardigan Women XL Gray Open Front ...</td>\n",
       "      <td>$11.25</td>\n",
       "      <td>$36.01 shipping</td>\n",
       "    </tr>\n",
       "    <tr>\n",
       "      <th>21</th>\n",
       "      <td>https://i.ebayimg.com/thumbs/images/g/85YAAOSw...</td>\n",
       "      <td>Womens Terra and Sky White Mid-Rise Plus Capri...</td>\n",
       "      <td>$12.99</td>\n",
       "      <td>$32.51 shipping</td>\n",
       "    </tr>\n",
       "    <tr>\n",
       "      <th>22</th>\n",
       "      <td>https://i.ebayimg.com/thumbs/images/g/m10AAOSw...</td>\n",
       "      <td>Levis JEANS Wedgie Size 27 Tapered Leg High Ri...</td>\n",
       "      <td>$34.88</td>\n",
       "      <td>$66.92 shipping</td>\n",
       "    </tr>\n",
       "    <tr>\n",
       "      <th>23</th>\n",
       "      <td>https://i.ebayimg.com/thumbs/images/g/CqMAAOSw...</td>\n",
       "      <td>Mix Nouveau Mixed Fabric Pleated Midi Skirt Sz...</td>\n",
       "      <td>$28.00</td>\n",
       "      <td>$33.52 shipping</td>\n",
       "    </tr>\n",
       "    <tr>\n",
       "      <th>24</th>\n",
       "      <td>https://i.ebayimg.com/thumbs/images/g/le4AAOSw...</td>\n",
       "      <td>1XL 2XL 3XL Round Neck Sleeveless Top Soft Rel...</td>\n",
       "      <td>$10.00</td>\n",
       "      <td>$28.88 shipping</td>\n",
       "    </tr>\n",
       "    <tr>\n",
       "      <th>25</th>\n",
       "      <td>https://i.ebayimg.com/thumbs/images/g/0o0AAOSw...</td>\n",
       "      <td>Women's Sunflower Floral Smocked Summer Sundre...</td>\n",
       "      <td>$18.95</td>\n",
       "      <td>$27.25 shipping</td>\n",
       "    </tr>\n",
       "    <tr>\n",
       "      <th>26</th>\n",
       "      <td>https://i.ebayimg.com/thumbs/images/g/~Q8AAOSw...</td>\n",
       "      <td>Saints &amp; Hearts Faux Suede Festival Fringe Cro...</td>\n",
       "      <td>$69.99</td>\n",
       "      <td>$84.46 shipping</td>\n",
       "    </tr>\n",
       "    <tr>\n",
       "      <th>27</th>\n",
       "      <td>https://i.ebayimg.com/thumbs/images/g/~XcAAOSw...</td>\n",
       "      <td>Elomi Smooth Bra Moulded Underwired 4301 Non-P...</td>\n",
       "      <td>$19.99</td>\n",
       "      <td>$16.47 shipping</td>\n",
       "    </tr>\n",
       "    <tr>\n",
       "      <th>28</th>\n",
       "      <td>https://i.ebayimg.com/thumbs/images/g/hkkAAOSw...</td>\n",
       "      <td>Ann Taylor Size XS X-small Navy Sweater Mixed ...</td>\n",
       "      <td>$32.88</td>\n",
       "      <td>$64.92 shipping</td>\n",
       "    </tr>\n",
       "    <tr>\n",
       "      <th>29</th>\n",
       "      <td>https://i.ebayimg.com/thumbs/images/g/NOIAAOSw...</td>\n",
       "      <td>NEW Never Worn Women's Pleated Black Tuxedo Pa...</td>\n",
       "      <td>$9.99</td>\n",
       "      <td>$32.50 shipping</td>\n",
       "    </tr>\n",
       "    <tr>\n",
       "      <th>30</th>\n",
       "      <td>https://i.ebayimg.com/thumbs/images/g/TEMAAOSw...</td>\n",
       "      <td>lucky brand high rise flare jeans stevie 12/31</td>\n",
       "      <td>$27.98</td>\n",
       "      <td>$65.98 shipping</td>\n",
       "    </tr>\n",
       "    <tr>\n",
       "      <th>31</th>\n",
       "      <td>https://i.ebayimg.com/thumbs/images/g/kmUAAOSw...</td>\n",
       "      <td>Women's Maxi Skirt Soft Stretch Knit Drawstrin...</td>\n",
       "      <td>$19.99</td>\n",
       "      <td>$27.28 shipping</td>\n",
       "    </tr>\n",
       "    <tr>\n",
       "      <th>32</th>\n",
       "      <td>NaN</td>\n",
       "      <td>NaN</td>\n",
       "      <td>NaN</td>\n",
       "      <td>NaN</td>\n",
       "    </tr>\n",
       "    <tr>\n",
       "      <th>33</th>\n",
       "      <td>NaN</td>\n",
       "      <td>NaN</td>\n",
       "      <td>NaN</td>\n",
       "      <td>NaN</td>\n",
       "    </tr>\n",
       "    <tr>\n",
       "      <th>34</th>\n",
       "      <td>NaN</td>\n",
       "      <td>NaN</td>\n",
       "      <td>NaN</td>\n",
       "      <td>NaN</td>\n",
       "    </tr>\n",
       "    <tr>\n",
       "      <th>35</th>\n",
       "      <td>NaN</td>\n",
       "      <td>NaN</td>\n",
       "      <td>NaN</td>\n",
       "      <td>NaN</td>\n",
       "    </tr>\n",
       "    <tr>\n",
       "      <th>36</th>\n",
       "      <td>NaN</td>\n",
       "      <td>NaN</td>\n",
       "      <td>NaN</td>\n",
       "      <td>NaN</td>\n",
       "    </tr>\n",
       "    <tr>\n",
       "      <th>37</th>\n",
       "      <td>NaN</td>\n",
       "      <td>NaN</td>\n",
       "      <td>NaN</td>\n",
       "      <td>NaN</td>\n",
       "    </tr>\n",
       "    <tr>\n",
       "      <th>38</th>\n",
       "      <td>NaN</td>\n",
       "      <td>NaN</td>\n",
       "      <td>NaN</td>\n",
       "      <td>NaN</td>\n",
       "    </tr>\n",
       "    <tr>\n",
       "      <th>39</th>\n",
       "      <td>NaN</td>\n",
       "      <td>NaN</td>\n",
       "      <td>NaN</td>\n",
       "      <td>NaN</td>\n",
       "    </tr>\n",
       "  </tbody>\n",
       "</table>\n",
       "</div>"
      ],
      "text/plain": [
       "                                            image_url  \\\n",
       "0   https://i.ebayimg.com/thumbs/images/g/mCYAAOSw...   \n",
       "1   https://i.ebayimg.com/thumbs/images/g/LU0AAOSw...   \n",
       "2   https://i.ebayimg.com/thumbs/images/g/nPoAAOSw...   \n",
       "3   https://i.ebayimg.com/thumbs/images/g/sJ8AAOSw...   \n",
       "4   https://i.ebayimg.com/thumbs/images/g/JHoAAOSw...   \n",
       "5   https://i.ebayimg.com/thumbs/images/g/E-EAAOSw...   \n",
       "6   https://i.ebayimg.com/thumbs/images/g/f5cAAOSw...   \n",
       "7   https://i.ebayimg.com/thumbs/images/g/11wAAOSw...   \n",
       "8   https://i.ebayimg.com/thumbs/images/g/ahEAAOSw...   \n",
       "9   https://i.ebayimg.com/thumbs/images/g/YCcAAOSw...   \n",
       "10  https://i.ebayimg.com/thumbs/images/g/QPwAAOSw...   \n",
       "11  https://i.ebayimg.com/thumbs/images/g/XsYAAOSw...   \n",
       "12  https://i.ebayimg.com/thumbs/images/g/ooIAAOSw...   \n",
       "13  https://i.ebayimg.com/thumbs/images/g/eGgAAOSw...   \n",
       "14  https://i.ebayimg.com/thumbs/images/g/yAUAAOSw...   \n",
       "15  https://i.ebayimg.com/thumbs/images/g/X7cAAOSw...   \n",
       "16  https://i.ebayimg.com/thumbs/images/g/yzIAAOSw...   \n",
       "17  https://i.ebayimg.com/thumbs/images/g/4QoAAOSw...   \n",
       "18  https://i.ebayimg.com/thumbs/images/g/kuEAAOSw...   \n",
       "19  https://i.ebayimg.com/thumbs/images/g/~s8AAOSw...   \n",
       "20  https://i.ebayimg.com/thumbs/images/g/cWgAAOSw...   \n",
       "21  https://i.ebayimg.com/thumbs/images/g/85YAAOSw...   \n",
       "22  https://i.ebayimg.com/thumbs/images/g/m10AAOSw...   \n",
       "23  https://i.ebayimg.com/thumbs/images/g/CqMAAOSw...   \n",
       "24  https://i.ebayimg.com/thumbs/images/g/le4AAOSw...   \n",
       "25  https://i.ebayimg.com/thumbs/images/g/0o0AAOSw...   \n",
       "26  https://i.ebayimg.com/thumbs/images/g/~Q8AAOSw...   \n",
       "27  https://i.ebayimg.com/thumbs/images/g/~XcAAOSw...   \n",
       "28  https://i.ebayimg.com/thumbs/images/g/hkkAAOSw...   \n",
       "29  https://i.ebayimg.com/thumbs/images/g/NOIAAOSw...   \n",
       "30  https://i.ebayimg.com/thumbs/images/g/TEMAAOSw...   \n",
       "31  https://i.ebayimg.com/thumbs/images/g/kmUAAOSw...   \n",
       "32                                                NaN   \n",
       "33                                                NaN   \n",
       "34                                                NaN   \n",
       "35                                                NaN   \n",
       "36                                                NaN   \n",
       "37                                                NaN   \n",
       "38                                                NaN   \n",
       "39                                                NaN   \n",
       "\n",
       "                                                title    price  \\\n",
       "0   Custom Printed Text T-Shirt - Promotional Pers...   $49.00   \n",
       "1   Summer Maxi Dress Farm Floral Print Sleeveless...   $68.00   \n",
       "2   CLASSIC JEAN JACKET - SOLIDS, logo button deta...   $49.00   \n",
       "3   Women Sexy Lingerie Leather Nightwear Sleepwea...    $7.49   \n",
       "4   Moth Anthropologie Cardigan Womens Medium Gold...   $11.25   \n",
       "5   2 PACK LADIES BOOTLEG TROUSERS WOMENS BOOTCUT ...   $89.95   \n",
       "6   RE/DONE 70s Stove Pipe High Rise Straight Dest...  $183.00   \n",
       "7   ladies skirt elastic lined long skirt women li...   $24.88   \n",
       "8   Uneek 5 PACK Unisex Mens CLASSIC T-SHIRT Plain...    $9.99   \n",
       "9   Linen belted dress oversized summer sundress l...   $80.00   \n",
       "10  SHORT SLEEVE JEAN JACKET -  DAISY, breezy shor...   $49.00   \n",
       "11  Fajas Colombianas Reductoras Body Shaper Post ...   $36.44   \n",
       "12  Orvis Sweater Womens Small Gray Pullover Fleec...   $19.99   \n",
       "13  LADIES WOMENS HALF ELASTICATED STRETCH WAIST W...   $19.99   \n",
       "14  Chico’s So Slimming Beige Ankle Jeans Cotton B...   $15.99   \n",
       "15  Women's Pencil Mini Skirt Stretch Mid Waist Ba...   $15.98   \n",
       "16  LADIES LONG SLEEVE POLO NECK ROLL NECK TOP WOM...    $5.99   \n",
       "17  Floral Printed Cotton Midi Dress Wedding Party...   $41.22   \n",
       "18  Madewell Jacket Women Medium Terracotta Ashgro...   $44.00   \n",
       "19  3or6Pack Women's Sports Cotton Boxer Shorts Bo...   $12.95   \n",
       "20  Willi Smith Cardigan Women XL Gray Open Front ...   $11.25   \n",
       "21  Womens Terra and Sky White Mid-Rise Plus Capri...   $12.99   \n",
       "22  Levis JEANS Wedgie Size 27 Tapered Leg High Ri...   $34.88   \n",
       "23  Mix Nouveau Mixed Fabric Pleated Midi Skirt Sz...   $28.00   \n",
       "24  1XL 2XL 3XL Round Neck Sleeveless Top Soft Rel...   $10.00   \n",
       "25  Women's Sunflower Floral Smocked Summer Sundre...   $18.95   \n",
       "26  Saints & Hearts Faux Suede Festival Fringe Cro...   $69.99   \n",
       "27  Elomi Smooth Bra Moulded Underwired 4301 Non-P...   $19.99   \n",
       "28  Ann Taylor Size XS X-small Navy Sweater Mixed ...   $32.88   \n",
       "29  NEW Never Worn Women's Pleated Black Tuxedo Pa...    $9.99   \n",
       "30     lucky brand high rise flare jeans stevie 12/31   $27.98   \n",
       "31  Women's Maxi Skirt Soft Stretch Knit Drawstrin...   $19.99   \n",
       "32                                                NaN      NaN   \n",
       "33                                                NaN      NaN   \n",
       "34                                                NaN      NaN   \n",
       "35                                                NaN      NaN   \n",
       "36                                                NaN      NaN   \n",
       "37                                                NaN      NaN   \n",
       "38                                                NaN      NaN   \n",
       "39                                                NaN      NaN   \n",
       "\n",
       "      shipping_cost  \n",
       "0   $15.25 shipping  \n",
       "1   $28.70 shipping  \n",
       "2     Free shipping  \n",
       "3   $19.14 shipping  \n",
       "4   $36.01 shipping  \n",
       "5   $20.34 shipping  \n",
       "6   $40.27 shipping  \n",
       "7    $8.89 shipping  \n",
       "8   $20.34 shipping  \n",
       "9     Free shipping  \n",
       "10    Free shipping  \n",
       "11    Free shipping  \n",
       "12  $36.27 shipping  \n",
       "13  $20.34 shipping  \n",
       "14  $36.70 shipping  \n",
       "15  $18.78 shipping  \n",
       "16  $19.07 shipping  \n",
       "17    Free shipping  \n",
       "18  $83.46 shipping  \n",
       "19  $19.00 shipping  \n",
       "20  $36.01 shipping  \n",
       "21  $32.51 shipping  \n",
       "22  $66.92 shipping  \n",
       "23  $33.52 shipping  \n",
       "24  $28.88 shipping  \n",
       "25  $27.25 shipping  \n",
       "26  $84.46 shipping  \n",
       "27  $16.47 shipping  \n",
       "28  $64.92 shipping  \n",
       "29  $32.50 shipping  \n",
       "30  $65.98 shipping  \n",
       "31  $27.28 shipping  \n",
       "32              NaN  \n",
       "33              NaN  \n",
       "34              NaN  \n",
       "35              NaN  \n",
       "36              NaN  \n",
       "37              NaN  \n",
       "38              NaN  \n",
       "39              NaN  "
      ]
     },
     "execution_count": 4,
     "metadata": {},
     "output_type": "execute_result"
    }
   ],
   "source": [
    "df.head(10)"
   ]
  },
  {
   "cell_type": "code",
   "execution_count": 6,
   "metadata": {},
   "outputs": [],
   "source": [
    "import os\n",
    "import pandas as pd\n",
    "import requests\n",
    "\n",
    "\n",
    "\n",
    "\n",
    "\n"
   ]
  },
  {
   "cell_type": "code",
   "execution_count": 7,
   "metadata": {},
   "outputs": [],
   "source": [
    "# Function to download an image\n",
    "def download_image(url, folder_path, file_name):\n",
    "    try:\n",
    "        response = requests.get(url, stream=True)\n",
    "        if response.status_code == 200:\n",
    "            file_path = os.path.join(folder_path, file_name)\n",
    "            with open(file_path, 'wb') as file:\n",
    "                for chunk in response.iter_content(1024):\n",
    "                    file.write(chunk)\n",
    "    except Exception as e:\n",
    "        print(f\"Failed to download {url}: {str(e)}\")\n"
   ]
  },
  {
   "cell_type": "code",
   "execution_count": 12,
   "metadata": {},
   "outputs": [
    {
     "name": "stdout",
     "output_type": "stream",
     "text": [
      "Collecting tqdmNote: you may need to restart the kernel to use updated packages.\n",
      "\n",
      "  Downloading tqdm-4.66.4-py3-none-any.whl (78 kB)\n",
      "                                              0.0/78.3 kB ? eta -:--:--\n",
      "     -----                                    10.2/78.3 kB ? eta -:--:--\n",
      "     --------------                         30.7/78.3 kB 262.6 kB/s eta 0:00:01\n",
      "     --------------                         30.7/78.3 kB 262.6 kB/s eta 0:00:01\n",
      "     --------------                         30.7/78.3 kB 262.6 kB/s eta 0:00:01\n",
      "     -------------------                    41.0/78.3 kB 115.9 kB/s eta 0:00:01\n",
      "     -----------------------------          61.4/78.3 kB 164.1 kB/s eta 0:00:01\n",
      "     ----------------------------------     71.7/78.3 kB 171.1 kB/s eta 0:00:01\n",
      "     -------------------------------------- 78.3/78.3 kB 161.6 kB/s eta 0:00:00\n",
      "Requirement already satisfied: colorama in c:\\users\\tochukwu\\downloads\\ai-hackathon_team_a-main\\ai-hackathon_team_a-main\\venv\\lib\\site-packages (from tqdm) (0.4.6)\n",
      "Installing collected packages: tqdm\n",
      "Successfully installed tqdm-4.66.4\n"
     ]
    },
    {
     "name": "stderr",
     "output_type": "stream",
     "text": [
      "\n",
      "[notice] A new release of pip is available: 23.1.2 -> 24.0\n",
      "[notice] To update, run: python.exe -m pip install --upgrade pip\n"
     ]
    }
   ],
   "source": [
    "pip install tqdm\n"
   ]
  },
  {
   "cell_type": "code",
   "execution_count": 13,
   "metadata": {},
   "outputs": [],
   "source": [
    "from tqdm import tqdm"
   ]
  },
  {
   "cell_type": "code",
   "execution_count": 14,
   "metadata": {},
   "outputs": [
    {
     "name": "stderr",
     "output_type": "stream",
     "text": [
      "100%|██████████| 40/40 [00:22<00:00,  1.77it/s]"
     ]
    },
    {
     "name": "stdout",
     "output_type": "stream",
     "text": [
      "Failed to download nan: Invalid URL 'nan': No scheme supplied. Perhaps you meant https://nan?\n",
      "Failed to download nan: Invalid URL 'nan': No scheme supplied. Perhaps you meant https://nan?\n",
      "Failed to download nan: Invalid URL 'nan': No scheme supplied. Perhaps you meant https://nan?\n",
      "Failed to download nan: Invalid URL 'nan': No scheme supplied. Perhaps you meant https://nan?\n",
      "Failed to download nan: Invalid URL 'nan': No scheme supplied. Perhaps you meant https://nan?\n",
      "Failed to download nan: Invalid URL 'nan': No scheme supplied. Perhaps you meant https://nan?\n",
      "Failed to download nan: Invalid URL 'nan': No scheme supplied. Perhaps you meant https://nan?\n",
      "Failed to download nan: Invalid URL 'nan': No scheme supplied. Perhaps you meant https://nan?\n",
      "Download completed.\n"
     ]
    },
    {
     "name": "stderr",
     "output_type": "stream",
     "text": [
      "\n"
     ]
    }
   ],
   "source": [
    "# Read the CSV file\n",
    "df = pd.read_csv('./Ebay_scraper/CNN_Model_Train_Data.csv')\n",
    "\n",
    "# Create a directory to save the images\n",
    "folder_path = 'images'\n",
    "os.makedirs(folder_path, exist_ok=True)\n",
    "\n",
    "# Download each image\n",
    "for index, row in tqdm(df.iterrows(), total=df.shape[0]):\n",
    "    image_url = row['image_url']\n",
    "    file_name = f\"image_{index}.jpg\"\n",
    "    download_image(image_url, folder_path, file_name)\n",
    "\n",
    "print(\"Download completed.\")"
   ]
  },
  {
   "cell_type": "code",
   "execution_count": 15,
   "metadata": {},
   "outputs": [],
   "source": [
    "df = pd.read_csv('./Ebay_scraper/CNN_Model_Train_Data2.csv')"
   ]
  },
  {
   "cell_type": "code",
   "execution_count": 17,
   "metadata": {},
   "outputs": [
    {
     "data": {
      "text/html": [
       "<div>\n",
       "<style scoped>\n",
       "    .dataframe tbody tr th:only-of-type {\n",
       "        vertical-align: middle;\n",
       "    }\n",
       "\n",
       "    .dataframe tbody tr th {\n",
       "        vertical-align: top;\n",
       "    }\n",
       "\n",
       "    .dataframe thead th {\n",
       "        text-align: right;\n",
       "    }\n",
       "</style>\n",
       "<table border=\"1\" class=\"dataframe\">\n",
       "  <thead>\n",
       "    <tr style=\"text-align: right;\">\n",
       "      <th></th>\n",
       "      <th>title</th>\n",
       "      <th>url</th>\n",
       "      <th>image_url</th>\n",
       "      <th>ratings</th>\n",
       "      <th>ratings_count</th>\n",
       "      <th>price</th>\n",
       "      <th>delivery_info</th>\n",
       "    </tr>\n",
       "  </thead>\n",
       "  <tbody>\n",
       "    <tr>\n",
       "      <th>0</th>\n",
       "      <td>NaN</td>\n",
       "      <td>NaN</td>\n",
       "      <td>NaN</td>\n",
       "      <td>NaN</td>\n",
       "      <td>NaN</td>\n",
       "      <td>NaN</td>\n",
       "      <td>NaN</td>\n",
       "    </tr>\n",
       "    <tr>\n",
       "      <th>1</th>\n",
       "      <td>Womens Sundress Summer Floral Short Sleeve Wra...</td>\n",
       "      <td>/FENSACE-Dresses-Wedding-Floral-Womens/dp/B09P...</td>\n",
       "      <td>https://m.media-amazon.com/images/I/71RcYBKNsS...</td>\n",
       "      <td>NaN</td>\n",
       "      <td>1,535</td>\n",
       "      <td>$33.99</td>\n",
       "      <td>Or fastest delivery</td>\n",
       "    </tr>\n",
       "    <tr>\n",
       "      <th>2</th>\n",
       "      <td>Womens Dresses 2024 Spring Summer Deep V Neck ...</td>\n",
       "      <td>/Dokotoo-Dresses-Wedding-Drawstring-Elegant/dp...</td>\n",
       "      <td>https://m.media-amazon.com/images/I/51ayv6EKyS...</td>\n",
       "      <td>NaN</td>\n",
       "      <td>1,092</td>\n",
       "      <td>$38.99</td>\n",
       "      <td>Or fastest delivery</td>\n",
       "    </tr>\n",
       "    <tr>\n",
       "      <th>3</th>\n",
       "      <td>Women's Summer Casual Square Neck Dress with P...</td>\n",
       "      <td>/HUHOT-Dresses-Sundresses-Hawaiian-Sleeveless/...</td>\n",
       "      <td>https://m.media-amazon.com/images/I/81EYjmptif...</td>\n",
       "      <td>NaN</td>\n",
       "      <td>1,035</td>\n",
       "      <td>$34.99</td>\n",
       "      <td>Or fastest delivery</td>\n",
       "    </tr>\n",
       "    <tr>\n",
       "      <th>4</th>\n",
       "      <td>Women’s 2024 Summer Short Sleeve Crewneck T Sh...</td>\n",
       "      <td>/ANRABESS-Womens-Crewneck-Dresses-735heise-M/d...</td>\n",
       "      <td>https://m.media-amazon.com/images/I/61JeygvTC4...</td>\n",
       "      <td>NaN</td>\n",
       "      <td>657</td>\n",
       "      <td>$37.99</td>\n",
       "      <td>Or fastest delivery</td>\n",
       "    </tr>\n",
       "    <tr>\n",
       "      <th>...</th>\n",
       "      <td>...</td>\n",
       "      <td>...</td>\n",
       "      <td>...</td>\n",
       "      <td>...</td>\n",
       "      <td>...</td>\n",
       "      <td>...</td>\n",
       "      <td>...</td>\n",
       "    </tr>\n",
       "    <tr>\n",
       "      <th>353</th>\n",
       "      <td>Womens 2024 Summer Casual Cap Sleeve V Neck Ti...</td>\n",
       "      <td>/PRETTYGARDEN-Womens-Summer-Dresses-X-Large/dp...</td>\n",
       "      <td>https://m.media-amazon.com/images/I/814nYWM2Ru...</td>\n",
       "      <td>NaN</td>\n",
       "      <td>49</td>\n",
       "      <td>$39.99</td>\n",
       "      <td>Or fastest delivery</td>\n",
       "    </tr>\n",
       "    <tr>\n",
       "      <th>354</th>\n",
       "      <td>NaN</td>\n",
       "      <td>NaN</td>\n",
       "      <td>NaN</td>\n",
       "      <td>NaN</td>\n",
       "      <td>NaN</td>\n",
       "      <td>NaN</td>\n",
       "      <td>NaN</td>\n",
       "    </tr>\n",
       "    <tr>\n",
       "      <th>355</th>\n",
       "      <td>NaN</td>\n",
       "      <td>NaN</td>\n",
       "      <td>NaN</td>\n",
       "      <td>NaN</td>\n",
       "      <td>NaN</td>\n",
       "      <td>NaN</td>\n",
       "      <td>NaN</td>\n",
       "    </tr>\n",
       "    <tr>\n",
       "      <th>356</th>\n",
       "      <td>NaN</td>\n",
       "      <td>NaN</td>\n",
       "      <td>NaN</td>\n",
       "      <td>NaN</td>\n",
       "      <td>NaN</td>\n",
       "      <td>NaN</td>\n",
       "      <td>NaN</td>\n",
       "    </tr>\n",
       "    <tr>\n",
       "      <th>357</th>\n",
       "      <td>NaN</td>\n",
       "      <td>NaN</td>\n",
       "      <td>NaN</td>\n",
       "      <td>NaN</td>\n",
       "      <td>NaN</td>\n",
       "      <td>NaN</td>\n",
       "      <td>NaN</td>\n",
       "    </tr>\n",
       "  </tbody>\n",
       "</table>\n",
       "<p>358 rows × 7 columns</p>\n",
       "</div>"
      ],
      "text/plain": [
       "                                                 title  \\\n",
       "0                                                  NaN   \n",
       "1    Womens Sundress Summer Floral Short Sleeve Wra...   \n",
       "2    Womens Dresses 2024 Spring Summer Deep V Neck ...   \n",
       "3    Women's Summer Casual Square Neck Dress with P...   \n",
       "4    Women’s 2024 Summer Short Sleeve Crewneck T Sh...   \n",
       "..                                                 ...   \n",
       "353  Womens 2024 Summer Casual Cap Sleeve V Neck Ti...   \n",
       "354                                                NaN   \n",
       "355                                                NaN   \n",
       "356                                                NaN   \n",
       "357                                                NaN   \n",
       "\n",
       "                                                   url  \\\n",
       "0                                                  NaN   \n",
       "1    /FENSACE-Dresses-Wedding-Floral-Womens/dp/B09P...   \n",
       "2    /Dokotoo-Dresses-Wedding-Drawstring-Elegant/dp...   \n",
       "3    /HUHOT-Dresses-Sundresses-Hawaiian-Sleeveless/...   \n",
       "4    /ANRABESS-Womens-Crewneck-Dresses-735heise-M/d...   \n",
       "..                                                 ...   \n",
       "353  /PRETTYGARDEN-Womens-Summer-Dresses-X-Large/dp...   \n",
       "354                                                NaN   \n",
       "355                                                NaN   \n",
       "356                                                NaN   \n",
       "357                                                NaN   \n",
       "\n",
       "                                             image_url  ratings ratings_count  \\\n",
       "0                                                  NaN      NaN           NaN   \n",
       "1    https://m.media-amazon.com/images/I/71RcYBKNsS...      NaN         1,535   \n",
       "2    https://m.media-amazon.com/images/I/51ayv6EKyS...      NaN         1,092   \n",
       "3    https://m.media-amazon.com/images/I/81EYjmptif...      NaN         1,035   \n",
       "4    https://m.media-amazon.com/images/I/61JeygvTC4...      NaN           657   \n",
       "..                                                 ...      ...           ...   \n",
       "353  https://m.media-amazon.com/images/I/814nYWM2Ru...      NaN            49   \n",
       "354                                                NaN      NaN           NaN   \n",
       "355                                                NaN      NaN           NaN   \n",
       "356                                                NaN      NaN           NaN   \n",
       "357                                                NaN      NaN           NaN   \n",
       "\n",
       "      price         delivery_info  \n",
       "0       NaN                   NaN  \n",
       "1    $33.99  Or fastest delivery   \n",
       "2    $38.99  Or fastest delivery   \n",
       "3    $34.99  Or fastest delivery   \n",
       "4    $37.99  Or fastest delivery   \n",
       "..      ...                   ...  \n",
       "353  $39.99  Or fastest delivery   \n",
       "354     NaN                   NaN  \n",
       "355     NaN                   NaN  \n",
       "356     NaN                   NaN  \n",
       "357     NaN                   NaN  \n",
       "\n",
       "[358 rows x 7 columns]"
      ]
     },
     "execution_count": 17,
     "metadata": {},
     "output_type": "execute_result"
    }
   ],
   "source": [
    "df"
   ]
  },
  {
   "cell_type": "code",
   "execution_count": 22,
   "metadata": {},
   "outputs": [
    {
     "name": "stderr",
     "output_type": "stream",
     "text": [
      "  0%|          | 1/709 [00:00<04:03,  2.90it/s]"
     ]
    },
    {
     "name": "stdout",
     "output_type": "stream",
     "text": [
      "Failed to download nan: Invalid URL 'nan': No scheme supplied. Perhaps you meant https://nan?\n"
     ]
    },
    {
     "name": "stderr",
     "output_type": "stream",
     "text": [
      "  2%|▏         | 15/709 [00:08<05:54,  1.96it/s]"
     ]
    },
    {
     "name": "stdout",
     "output_type": "stream",
     "text": [
      "Failed to download nan: Invalid URL 'nan': No scheme supplied. Perhaps you meant https://nan?\n"
     ]
    },
    {
     "name": "stderr",
     "output_type": "stream",
     "text": [
      "  4%|▍         | 31/709 [00:15<04:43,  2.39it/s]"
     ]
    },
    {
     "name": "stdout",
     "output_type": "stream",
     "text": [
      "Failed to download nan: Invalid URL 'nan': No scheme supplied. Perhaps you meant https://nan?\n"
     ]
    },
    {
     "name": "stderr",
     "output_type": "stream",
     "text": [
      "  9%|▊         | 61/709 [00:27<04:44,  2.28it/s]"
     ]
    },
    {
     "name": "stdout",
     "output_type": "stream",
     "text": [
      "Failed to download nan: Invalid URL 'nan': No scheme supplied. Perhaps you meant https://nan?\n",
      "Failed to download nan: Invalid URL 'nan': No scheme supplied. Perhaps you meant https://nan?\n",
      "Failed to download nan: Invalid URL 'nan': No scheme supplied. Perhaps you meant https://nan?\n",
      "Failed to download nan: Invalid URL 'nan': No scheme supplied. Perhaps you meant https://nan?\n"
     ]
    },
    {
     "name": "stderr",
     "output_type": "stream",
     "text": [
      " 13%|█▎        | 91/709 [00:40<05:42,  1.81it/s]"
     ]
    },
    {
     "name": "stdout",
     "output_type": "stream",
     "text": [
      "Failed to download nan: Invalid URL 'nan': No scheme supplied. Perhaps you meant https://nan?\n"
     ]
    },
    {
     "name": "stderr",
     "output_type": "stream",
     "text": [
      " 17%|█▋        | 124/709 [00:55<04:45,  2.05it/s]"
     ]
    },
    {
     "name": "stdout",
     "output_type": "stream",
     "text": [
      "Failed to download nan: Invalid URL 'nan': No scheme supplied. Perhaps you meant https://nan?\n",
      "Failed to download nan: Invalid URL 'nan': No scheme supplied. Perhaps you meant https://nan?\n",
      "Failed to download nan: Invalid URL 'nan': No scheme supplied. Perhaps you meant https://nan?\n",
      "Failed to download nan: Invalid URL 'nan': No scheme supplied. Perhaps you meant https://nan?\n"
     ]
    },
    {
     "name": "stderr",
     "output_type": "stream",
     "text": [
      " 19%|█▊        | 132/709 [00:58<03:17,  2.93it/s]"
     ]
    },
    {
     "name": "stdout",
     "output_type": "stream",
     "text": [
      "Failed to download nan: Invalid URL 'nan': No scheme supplied. Perhaps you meant https://nan?\n"
     ]
    },
    {
     "name": "stderr",
     "output_type": "stream",
     "text": [
      " 21%|██        | 148/709 [01:04<04:03,  2.30it/s]"
     ]
    },
    {
     "name": "stdout",
     "output_type": "stream",
     "text": [
      "Failed to download nan: Invalid URL 'nan': No scheme supplied. Perhaps you meant https://nan?\n"
     ]
    },
    {
     "name": "stderr",
     "output_type": "stream",
     "text": [
      " 25%|██▌       | 178/709 [01:17<04:31,  1.95it/s]"
     ]
    },
    {
     "name": "stdout",
     "output_type": "stream",
     "text": [
      "Failed to download nan: Invalid URL 'nan': No scheme supplied. Perhaps you meant https://nan?\n",
      "Failed to download nan: Invalid URL 'nan': No scheme supplied. Perhaps you meant https://nan?\n",
      "Failed to download nan: Invalid URL 'nan': No scheme supplied. Perhaps you meant https://nan?\n",
      "Failed to download nan: Invalid URL 'nan': No scheme supplied. Perhaps you meant https://nan?\n"
     ]
    },
    {
     "name": "stderr",
     "output_type": "stream",
     "text": [
      " 28%|██▊       | 198/709 [01:24<03:44,  2.28it/s]"
     ]
    },
    {
     "name": "stdout",
     "output_type": "stream",
     "text": [
      "Failed to download nan: Invalid URL 'nan': No scheme supplied. Perhaps you meant https://nan?\n"
     ]
    },
    {
     "name": "stderr",
     "output_type": "stream",
     "text": [
      " 33%|███▎      | 231/709 [01:38<03:23,  2.35it/s]"
     ]
    },
    {
     "name": "stdout",
     "output_type": "stream",
     "text": [
      "Failed to download nan: Invalid URL 'nan': No scheme supplied. Perhaps you meant https://nan?\n",
      "Failed to download nan: Invalid URL 'nan': No scheme supplied. Perhaps you meant https://nan?\n",
      "Failed to download nan: Invalid URL 'nan': No scheme supplied. Perhaps you meant https://nan?\n",
      "Failed to download nan: Invalid URL 'nan': No scheme supplied. Perhaps you meant https://nan?\n"
     ]
    },
    {
     "name": "stderr",
     "output_type": "stream",
     "text": [
      " 34%|███▎      | 239/709 [01:40<02:16,  3.45it/s]"
     ]
    },
    {
     "name": "stdout",
     "output_type": "stream",
     "text": [
      "Failed to download nan: Invalid URL 'nan': No scheme supplied. Perhaps you meant https://nan?\n"
     ]
    },
    {
     "name": "stderr",
     "output_type": "stream",
     "text": [
      " 36%|███▌      | 255/709 [01:47<03:22,  2.24it/s]"
     ]
    },
    {
     "name": "stdout",
     "output_type": "stream",
     "text": [
      "Failed to download nan: Invalid URL 'nan': No scheme supplied. Perhaps you meant https://nan?\n"
     ]
    },
    {
     "name": "stderr",
     "output_type": "stream",
     "text": [
      " 40%|████      | 285/709 [02:10<08:45,  1.24s/it]"
     ]
    },
    {
     "name": "stdout",
     "output_type": "stream",
     "text": [
      "Failed to download nan: Invalid URL 'nan': No scheme supplied. Perhaps you meant https://nan?\n",
      "Failed to download nan: Invalid URL 'nan': No scheme supplied. Perhaps you meant https://nan?\n",
      "Failed to download nan: Invalid URL 'nan': No scheme supplied. Perhaps you meant https://nan?\n",
      "Failed to download nan: Invalid URL 'nan': No scheme supplied. Perhaps you meant https://nan?\n"
     ]
    },
    {
     "name": "stderr",
     "output_type": "stream",
     "text": [
      " 43%|████▎     | 305/709 [02:22<03:39,  1.84it/s]"
     ]
    },
    {
     "name": "stdout",
     "output_type": "stream",
     "text": [
      "Failed to download nan: Invalid URL 'nan': No scheme supplied. Perhaps you meant https://nan?\n"
     ]
    },
    {
     "name": "stderr",
     "output_type": "stream",
     "text": [
      " 48%|████▊     | 338/709 [02:38<03:12,  1.93it/s]"
     ]
    },
    {
     "name": "stdout",
     "output_type": "stream",
     "text": [
      "Failed to download nan: Invalid URL 'nan': No scheme supplied. Perhaps you meant https://nan?\n",
      "Failed to download nan: Invalid URL 'nan': No scheme supplied. Perhaps you meant https://nan?\n",
      "Failed to download nan: Invalid URL 'nan': No scheme supplied. Perhaps you meant https://nan?\n",
      "Failed to download nan: Invalid URL 'nan': No scheme supplied. Perhaps you meant https://nan?\n"
     ]
    },
    {
     "name": "stderr",
     "output_type": "stream",
     "text": [
      " 49%|████▉     | 346/709 [02:40<02:07,  2.85it/s]"
     ]
    },
    {
     "name": "stdout",
     "output_type": "stream",
     "text": [
      "Failed to download nan: Invalid URL 'nan': No scheme supplied. Perhaps you meant https://nan?\n"
     ]
    },
    {
     "name": "stderr",
     "output_type": "stream",
     "text": [
      " 51%|█████     | 362/709 [02:49<03:45,  1.54it/s]"
     ]
    },
    {
     "name": "stdout",
     "output_type": "stream",
     "text": [
      "Failed to download nan: Invalid URL 'nan': No scheme supplied. Perhaps you meant https://nan?\n"
     ]
    },
    {
     "name": "stderr",
     "output_type": "stream",
     "text": [
      " 55%|█████▌    | 392/709 [03:06<02:42,  1.96it/s]"
     ]
    },
    {
     "name": "stdout",
     "output_type": "stream",
     "text": [
      "Failed to download nan: Invalid URL 'nan': No scheme supplied. Perhaps you meant https://nan?\n",
      "Failed to download nan: Invalid URL 'nan': No scheme supplied. Perhaps you meant https://nan?\n",
      "Failed to download nan: Invalid URL 'nan': No scheme supplied. Perhaps you meant https://nan?\n",
      "Failed to download nan: Invalid URL 'nan': No scheme supplied. Perhaps you meant https://nan?\n"
     ]
    },
    {
     "name": "stderr",
     "output_type": "stream",
     "text": [
      " 58%|█████▊    | 412/709 [03:14<02:26,  2.03it/s]"
     ]
    },
    {
     "name": "stdout",
     "output_type": "stream",
     "text": [
      "Failed to download nan: Invalid URL 'nan': No scheme supplied. Perhaps you meant https://nan?\n"
     ]
    },
    {
     "name": "stderr",
     "output_type": "stream",
     "text": [
      " 63%|██████▎   | 445/709 [03:29<02:04,  2.12it/s]"
     ]
    },
    {
     "name": "stdout",
     "output_type": "stream",
     "text": [
      "Failed to download nan: Invalid URL 'nan': No scheme supplied. Perhaps you meant https://nan?\n",
      "Failed to download nan: Invalid URL 'nan': No scheme supplied. Perhaps you meant https://nan?\n",
      "Failed to download nan: Invalid URL 'nan': No scheme supplied. Perhaps you meant https://nan?\n",
      "Failed to download nan: Invalid URL 'nan': No scheme supplied. Perhaps you meant https://nan?\n"
     ]
    },
    {
     "name": "stderr",
     "output_type": "stream",
     "text": [
      " 64%|██████▍   | 453/709 [03:31<01:24,  3.02it/s]"
     ]
    },
    {
     "name": "stdout",
     "output_type": "stream",
     "text": [
      "Failed to download nan: Invalid URL 'nan': No scheme supplied. Perhaps you meant https://nan?\n"
     ]
    },
    {
     "name": "stderr",
     "output_type": "stream",
     "text": [
      " 66%|██████▌   | 469/709 [03:38<01:50,  2.17it/s]"
     ]
    },
    {
     "name": "stdout",
     "output_type": "stream",
     "text": [
      "Failed to download nan: Invalid URL 'nan': No scheme supplied. Perhaps you meant https://nan?\n"
     ]
    },
    {
     "name": "stderr",
     "output_type": "stream",
     "text": [
      " 70%|███████   | 499/709 [03:52<01:53,  1.85it/s]"
     ]
    },
    {
     "name": "stdout",
     "output_type": "stream",
     "text": [
      "Failed to download nan: Invalid URL 'nan': No scheme supplied. Perhaps you meant https://nan?\n",
      "Failed to download nan: Invalid URL 'nan': No scheme supplied. Perhaps you meant https://nan?\n",
      "Failed to download nan: Invalid URL 'nan': No scheme supplied. Perhaps you meant https://nan?\n",
      "Failed to download nan: Invalid URL 'nan': No scheme supplied. Perhaps you meant https://nan?\n"
     ]
    },
    {
     "name": "stderr",
     "output_type": "stream",
     "text": [
      " 73%|███████▎  | 519/709 [04:01<01:38,  1.92it/s]"
     ]
    },
    {
     "name": "stdout",
     "output_type": "stream",
     "text": [
      "Failed to download nan: Invalid URL 'nan': No scheme supplied. Perhaps you meant https://nan?\n"
     ]
    },
    {
     "name": "stderr",
     "output_type": "stream",
     "text": [
      " 78%|███████▊  | 552/709 [04:21<01:23,  1.88it/s]"
     ]
    },
    {
     "name": "stdout",
     "output_type": "stream",
     "text": [
      "Failed to download nan: Invalid URL 'nan': No scheme supplied. Perhaps you meant https://nan?\n",
      "Failed to download nan: Invalid URL 'nan': No scheme supplied. Perhaps you meant https://nan?\n",
      "Failed to download nan: Invalid URL 'nan': No scheme supplied. Perhaps you meant https://nan?\n",
      "Failed to download nan: Invalid URL 'nan': No scheme supplied. Perhaps you meant https://nan?\n"
     ]
    },
    {
     "name": "stderr",
     "output_type": "stream",
     "text": [
      " 79%|███████▉  | 560/709 [04:23<00:57,  2.57it/s]"
     ]
    },
    {
     "name": "stdout",
     "output_type": "stream",
     "text": [
      "Failed to download nan: Invalid URL 'nan': No scheme supplied. Perhaps you meant https://nan?\n"
     ]
    },
    {
     "name": "stderr",
     "output_type": "stream",
     "text": [
      " 81%|████████  | 576/709 [04:31<01:12,  1.85it/s]"
     ]
    },
    {
     "name": "stdout",
     "output_type": "stream",
     "text": [
      "Failed to download nan: Invalid URL 'nan': No scheme supplied. Perhaps you meant https://nan?\n"
     ]
    },
    {
     "name": "stderr",
     "output_type": "stream",
     "text": [
      " 85%|████████▌ | 606/709 [04:46<00:52,  1.98it/s]"
     ]
    },
    {
     "name": "stdout",
     "output_type": "stream",
     "text": [
      "Failed to download nan: Invalid URL 'nan': No scheme supplied. Perhaps you meant https://nan?\n",
      "Failed to download nan: Invalid URL 'nan': No scheme supplied. Perhaps you meant https://nan?\n",
      "Failed to download nan: Invalid URL 'nan': No scheme supplied. Perhaps you meant https://nan?\n",
      "Failed to download nan: Invalid URL 'nan': No scheme supplied. Perhaps you meant https://nan?\n"
     ]
    },
    {
     "name": "stderr",
     "output_type": "stream",
     "text": [
      " 88%|████████▊ | 626/709 [04:58<00:54,  1.53it/s]"
     ]
    },
    {
     "name": "stdout",
     "output_type": "stream",
     "text": [
      "Failed to download nan: Invalid URL 'nan': No scheme supplied. Perhaps you meant https://nan?\n"
     ]
    },
    {
     "name": "stderr",
     "output_type": "stream",
     "text": [
      " 93%|█████████▎| 659/709 [05:18<00:30,  1.64it/s]"
     ]
    },
    {
     "name": "stdout",
     "output_type": "stream",
     "text": [
      "Failed to download nan: Invalid URL 'nan': No scheme supplied. Perhaps you meant https://nan?\n",
      "Failed to download nan: Invalid URL 'nan': No scheme supplied. Perhaps you meant https://nan?\n",
      "Failed to download nan: Invalid URL 'nan': No scheme supplied. Perhaps you meant https://nan?\n",
      "Failed to download nan: Invalid URL 'nan': No scheme supplied. Perhaps you meant https://nan?\n"
     ]
    },
    {
     "name": "stderr",
     "output_type": "stream",
     "text": [
      " 94%|█████████▍| 667/709 [05:20<00:18,  2.26it/s]"
     ]
    },
    {
     "name": "stdout",
     "output_type": "stream",
     "text": [
      "Failed to download nan: Invalid URL 'nan': No scheme supplied. Perhaps you meant https://nan?\n"
     ]
    },
    {
     "name": "stderr",
     "output_type": "stream",
     "text": [
      " 96%|█████████▌| 682/709 [05:27<00:13,  1.97it/s]"
     ]
    },
    {
     "name": "stdout",
     "output_type": "stream",
     "text": [
      "Failed to download nan: Invalid URL 'nan': No scheme supplied. Perhaps you meant https://nan?\n",
      "Failed to download nan: Invalid URL 'nan': No scheme supplied. Perhaps you meant https://nan?\n",
      "Failed to download nan: Invalid URL 'nan': No scheme supplied. Perhaps you meant https://nan?\n",
      "Failed to download nan: Invalid URL 'nan': No scheme supplied. Perhaps you meant https://nan?\n",
      "Failed to download nan: Invalid URL 'nan': No scheme supplied. Perhaps you meant https://nan?\n"
     ]
    },
    {
     "name": "stderr",
     "output_type": "stream",
     "text": [
      " 99%|█████████▉| 703/709 [05:35<00:03,  1.98it/s]"
     ]
    },
    {
     "name": "stdout",
     "output_type": "stream",
     "text": [
      "Failed to download nan: Invalid URL 'nan': No scheme supplied. Perhaps you meant https://nan?\n"
     ]
    },
    {
     "name": "stderr",
     "output_type": "stream",
     "text": [
      "100%|██████████| 709/709 [05:37<00:00,  2.10it/s]"
     ]
    },
    {
     "name": "stdout",
     "output_type": "stream",
     "text": [
      "Failed to download nan: Invalid URL 'nan': No scheme supplied. Perhaps you meant https://nan?\n",
      "Failed to download nan: Invalid URL 'nan': No scheme supplied. Perhaps you meant https://nan?\n",
      "Failed to download nan: Invalid URL 'nan': No scheme supplied. Perhaps you meant https://nan?\n",
      "Download completed.\n"
     ]
    },
    {
     "name": "stderr",
     "output_type": "stream",
     "text": [
      "\n"
     ]
    }
   ],
   "source": [
    "df1 = pd.read_csv('./Ebay_scraper/CNN_Model_Train_Data3.csv')\n",
    "\n",
    "folder_path = 'images'\n",
    "os.makedirs(folder_path, exist_ok=True)\n",
    "\n",
    "# Download each image\n",
    "for index, row in tqdm(df1.iterrows(), total=df1.shape[0]):\n",
    "    image_url = row['image_url']\n",
    "    file_name = f\"image_{index}.jpg\"\n",
    "    download_image(image_url, folder_path, file_name)\n",
    "\n",
    "print(\"Download completed.\")"
   ]
  },
  {
   "cell_type": "code",
   "execution_count": 21,
   "metadata": {},
   "outputs": [
    {
     "data": {
      "text/html": [
       "<div>\n",
       "<style scoped>\n",
       "    .dataframe tbody tr th:only-of-type {\n",
       "        vertical-align: middle;\n",
       "    }\n",
       "\n",
       "    .dataframe tbody tr th {\n",
       "        vertical-align: top;\n",
       "    }\n",
       "\n",
       "    .dataframe thead th {\n",
       "        text-align: right;\n",
       "    }\n",
       "</style>\n",
       "<table border=\"1\" class=\"dataframe\">\n",
       "  <thead>\n",
       "    <tr style=\"text-align: right;\">\n",
       "      <th></th>\n",
       "      <th>title</th>\n",
       "      <th>url</th>\n",
       "      <th>image_url</th>\n",
       "      <th>ratings</th>\n",
       "      <th>ratings_count</th>\n",
       "      <th>price</th>\n",
       "      <th>delivery_info</th>\n",
       "    </tr>\n",
       "  </thead>\n",
       "  <tbody>\n",
       "    <tr>\n",
       "      <th>0</th>\n",
       "      <td>NaN</td>\n",
       "      <td>NaN</td>\n",
       "      <td>NaN</td>\n",
       "      <td>NaN</td>\n",
       "      <td>NaN</td>\n",
       "      <td>NaN</td>\n",
       "      <td>NaN</td>\n",
       "    </tr>\n",
       "    <tr>\n",
       "      <th>1</th>\n",
       "      <td>Womens Sundress Summer Floral Short Sleeve Wra...</td>\n",
       "      <td>/FENSACE-Dresses-Wedding-Floral-Womens/dp/B09P...</td>\n",
       "      <td>https://m.media-amazon.com/images/I/71RcYBKNsS...</td>\n",
       "      <td>NaN</td>\n",
       "      <td>1,535</td>\n",
       "      <td>$33.99</td>\n",
       "      <td>Or fastest delivery</td>\n",
       "    </tr>\n",
       "    <tr>\n",
       "      <th>2</th>\n",
       "      <td>Womens Dresses 2024 Spring Summer Deep V Neck ...</td>\n",
       "      <td>/Dokotoo-Dresses-Wedding-Drawstring-Elegant/dp...</td>\n",
       "      <td>https://m.media-amazon.com/images/I/51ayv6EKyS...</td>\n",
       "      <td>NaN</td>\n",
       "      <td>1,092</td>\n",
       "      <td>$38.99</td>\n",
       "      <td>Or fastest delivery</td>\n",
       "    </tr>\n",
       "    <tr>\n",
       "      <th>3</th>\n",
       "      <td>Women's Summer Casual Square Neck Dress with P...</td>\n",
       "      <td>/HUHOT-Dresses-Sundresses-Hawaiian-Sleeveless/...</td>\n",
       "      <td>https://m.media-amazon.com/images/I/81EYjmptif...</td>\n",
       "      <td>NaN</td>\n",
       "      <td>1,035</td>\n",
       "      <td>$34.99</td>\n",
       "      <td>Or fastest delivery</td>\n",
       "    </tr>\n",
       "    <tr>\n",
       "      <th>4</th>\n",
       "      <td>Women’s 2024 Summer Short Sleeve Crewneck T Sh...</td>\n",
       "      <td>/ANRABESS-Womens-Crewneck-Dresses-735heise-M/d...</td>\n",
       "      <td>https://m.media-amazon.com/images/I/61JeygvTC4...</td>\n",
       "      <td>NaN</td>\n",
       "      <td>657</td>\n",
       "      <td>$37.99</td>\n",
       "      <td>Or fastest delivery</td>\n",
       "    </tr>\n",
       "    <tr>\n",
       "      <th>...</th>\n",
       "      <td>...</td>\n",
       "      <td>...</td>\n",
       "      <td>...</td>\n",
       "      <td>...</td>\n",
       "      <td>...</td>\n",
       "      <td>...</td>\n",
       "      <td>...</td>\n",
       "    </tr>\n",
       "    <tr>\n",
       "      <th>704</th>\n",
       "      <td>Womens Tops Eyelet Embroidery Summer Spring Fa...</td>\n",
       "      <td>/Bliwov-Crewneck-Embroidery-Fashion-Clothes/dp...</td>\n",
       "      <td>https://m.media-amazon.com/images/I/81kJ9FVIU4...</td>\n",
       "      <td>NaN</td>\n",
       "      <td>184</td>\n",
       "      <td>$22.99</td>\n",
       "      <td>Or fastest delivery</td>\n",
       "    </tr>\n",
       "    <tr>\n",
       "      <th>705</th>\n",
       "      <td>Womens Cap Sleeve Summer Textured Tops Dressy ...</td>\n",
       "      <td>/Summer-Trendy-T-Shirts-Outfits-Textured/dp/B0...</td>\n",
       "      <td>https://m.media-amazon.com/images/I/714ouZz3fC...</td>\n",
       "      <td>NaN</td>\n",
       "      <td>39</td>\n",
       "      <td>$9.99</td>\n",
       "      <td>Or fastest delivery</td>\n",
       "    </tr>\n",
       "    <tr>\n",
       "      <th>706</th>\n",
       "      <td>NaN</td>\n",
       "      <td>NaN</td>\n",
       "      <td>NaN</td>\n",
       "      <td>NaN</td>\n",
       "      <td>NaN</td>\n",
       "      <td>NaN</td>\n",
       "      <td>NaN</td>\n",
       "    </tr>\n",
       "    <tr>\n",
       "      <th>707</th>\n",
       "      <td>NaN</td>\n",
       "      <td>NaN</td>\n",
       "      <td>NaN</td>\n",
       "      <td>NaN</td>\n",
       "      <td>NaN</td>\n",
       "      <td>NaN</td>\n",
       "      <td>NaN</td>\n",
       "    </tr>\n",
       "    <tr>\n",
       "      <th>708</th>\n",
       "      <td>NaN</td>\n",
       "      <td>NaN</td>\n",
       "      <td>NaN</td>\n",
       "      <td>NaN</td>\n",
       "      <td>NaN</td>\n",
       "      <td>NaN</td>\n",
       "      <td>NaN</td>\n",
       "    </tr>\n",
       "  </tbody>\n",
       "</table>\n",
       "<p>709 rows × 7 columns</p>\n",
       "</div>"
      ],
      "text/plain": [
       "                                                 title  \\\n",
       "0                                                  NaN   \n",
       "1    Womens Sundress Summer Floral Short Sleeve Wra...   \n",
       "2    Womens Dresses 2024 Spring Summer Deep V Neck ...   \n",
       "3    Women's Summer Casual Square Neck Dress with P...   \n",
       "4    Women’s 2024 Summer Short Sleeve Crewneck T Sh...   \n",
       "..                                                 ...   \n",
       "704  Womens Tops Eyelet Embroidery Summer Spring Fa...   \n",
       "705  Womens Cap Sleeve Summer Textured Tops Dressy ...   \n",
       "706                                                NaN   \n",
       "707                                                NaN   \n",
       "708                                                NaN   \n",
       "\n",
       "                                                   url  \\\n",
       "0                                                  NaN   \n",
       "1    /FENSACE-Dresses-Wedding-Floral-Womens/dp/B09P...   \n",
       "2    /Dokotoo-Dresses-Wedding-Drawstring-Elegant/dp...   \n",
       "3    /HUHOT-Dresses-Sundresses-Hawaiian-Sleeveless/...   \n",
       "4    /ANRABESS-Womens-Crewneck-Dresses-735heise-M/d...   \n",
       "..                                                 ...   \n",
       "704  /Bliwov-Crewneck-Embroidery-Fashion-Clothes/dp...   \n",
       "705  /Summer-Trendy-T-Shirts-Outfits-Textured/dp/B0...   \n",
       "706                                                NaN   \n",
       "707                                                NaN   \n",
       "708                                                NaN   \n",
       "\n",
       "                                             image_url  ratings ratings_count  \\\n",
       "0                                                  NaN      NaN           NaN   \n",
       "1    https://m.media-amazon.com/images/I/71RcYBKNsS...      NaN         1,535   \n",
       "2    https://m.media-amazon.com/images/I/51ayv6EKyS...      NaN         1,092   \n",
       "3    https://m.media-amazon.com/images/I/81EYjmptif...      NaN         1,035   \n",
       "4    https://m.media-amazon.com/images/I/61JeygvTC4...      NaN           657   \n",
       "..                                                 ...      ...           ...   \n",
       "704  https://m.media-amazon.com/images/I/81kJ9FVIU4...      NaN           184   \n",
       "705  https://m.media-amazon.com/images/I/714ouZz3fC...      NaN            39   \n",
       "706                                                NaN      NaN           NaN   \n",
       "707                                                NaN      NaN           NaN   \n",
       "708                                                NaN      NaN           NaN   \n",
       "\n",
       "      price         delivery_info  \n",
       "0       NaN                   NaN  \n",
       "1    $33.99  Or fastest delivery   \n",
       "2    $38.99  Or fastest delivery   \n",
       "3    $34.99  Or fastest delivery   \n",
       "4    $37.99  Or fastest delivery   \n",
       "..      ...                   ...  \n",
       "704  $22.99  Or fastest delivery   \n",
       "705   $9.99  Or fastest delivery   \n",
       "706     NaN                   NaN  \n",
       "707     NaN                   NaN  \n",
       "708     NaN                   NaN  \n",
       "\n",
       "[709 rows x 7 columns]"
      ]
     },
     "execution_count": 21,
     "metadata": {},
     "output_type": "execute_result"
    }
   ],
   "source": [
    "df1"
   ]
  },
  {
   "cell_type": "code",
   "execution_count": null,
   "metadata": {},
   "outputs": [],
   "source": []
  }
 ],
 "metadata": {
  "kernelspec": {
   "display_name": "venv",
   "language": "python",
   "name": "venv"
  },
  "language_info": {
   "codemirror_mode": {
    "name": "ipython",
    "version": 3
   },
   "file_extension": ".py",
   "mimetype": "text/x-python",
   "name": "python",
   "nbconvert_exporter": "python",
   "pygments_lexer": "ipython3",
   "version": "3.11.4"
  }
 },
 "nbformat": 4,
 "nbformat_minor": 2
}
